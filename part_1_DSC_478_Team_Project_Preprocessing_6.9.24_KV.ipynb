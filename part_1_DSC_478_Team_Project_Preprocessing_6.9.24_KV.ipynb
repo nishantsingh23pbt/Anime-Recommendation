{
 "cells": [
  {
   "cell_type": "markdown",
   "id": "a74304b7",
   "metadata": {},
   "source": [
    "### DSC 478 - Programming Machine Learning A\n",
    "### Team Project: Code Sages\n",
    "\n",
    "### June 9, 2024\n",
    "\n",
    "### Dataset: Anime Recommendations Database\n",
    "### This source contains 2 datasets: anime.csv, rating.csv\n",
    "\n",
    "#### https://www.kaggle.com/code/hasibalmuzdadid/anime-ratings-analysis-recommender-system/input"
   ]
  },
  {
   "cell_type": "markdown",
   "id": "f6667de7",
   "metadata": {},
   "source": [
    "### Preprocessing performed by: Ken Vellian\n",
    "### This Notebook explores, cleans, preprocesses, and combines the datasets\n",
    "### Instructions on how to run this Notebook below"
   ]
  },
  {
   "cell_type": "code",
   "execution_count": 1,
   "id": "5d7b95d5",
   "metadata": {},
   "outputs": [],
   "source": [
    "# Import statements up to Week 9\n",
    "\n",
    "# Numerical Operations and Data Manipulation \n",
    "import pandas as pd\n",
    "import numpy as np\n",
    "import numpy.linalg as la\n",
    "from collections import Counter\n",
    "import math\n",
    "import random\n",
    " \n",
    "# Linear Algebra and Matrix Operations\n",
    "from scipy.sparse import csr_matrix\n",
    "from scipy.linalg import svd\n",
    "from scipy.sparse.linalg import svds\n",
    "\n",
    "# Data Preprocessing and Machine Learning \n",
    "from sklearn import datasets\n",
    "from sklearn import metrics\n",
    "from sklearn.metrics import silhouette_samples, confusion_matrix, classification_report, accuracy_score\n",
    "from sklearn.metrics import mean_squared_error, mean_absolute_error, completeness_score, homogeneity_score\n",
    "from sklearn.feature_extraction import DictVectorizer, text\n",
    "from sklearn import preprocessing, model_selection, decomposition, feature_selection\n",
    "from sklearn.model_selection import cross_val_score, train_test_split, KFold, GridSearchCV\n",
    "from sklearn.discriminant_analysis import LinearDiscriminantAnalysis\n",
    "from sklearn.neighbors import KNeighborsClassifier\n",
    "from sklearn.tree import DecisionTreeClassifier, export_graphviz\n",
    "from sklearn.naive_bayes import GaussianNB\n",
    "from sklearn.cluster import KMeans\n",
    "from sklearn.preprocessing import MinMaxScaler, StandardScaler\n",
    "from sklearn.linear_model import LinearRegression, Ridge, Lasso, SGDRegressor\n",
    "from sklearn.feature_selection import SelectPercentile, f_regression\n",
    "from sklearn.pipeline import Pipeline\n",
    "from sklearn import svm\n",
    "from sklearn.neighbors import NearestNeighbors\n",
    "from sklearn.decomposition import PCA\n",
    "from sklearn.metrics.pairwise import cosine_similarity\n",
    "\n",
    "# Plotting and Visualization\n",
    "import matplotlib.pyplot as plt\n",
    "import seaborn as sns\n",
    "from pandas.plotting import scatter_matrix\n",
    "import graphviz\n",
    "from IPython.display import Image\n",
    "\n",
    "# Time-Related Functions\n",
    "import time\n",
    "\n",
    "# Miscellaneous\n",
    "from operator import itemgetter, attrgetter\n",
    "import importlib\n",
    "import re"
   ]
  },
  {
   "cell_type": "code",
   "execution_count": 2,
   "id": "c61b163d-af01-486c-9ae4-77271fbaad7f",
   "metadata": {},
   "outputs": [],
   "source": [
    "# # Setting pandas to display all rows and  columns values\n",
    "# pd.set_option('display.max_rows', None)\n",
    "# pd.set_option('display.max_colwidth', None)"
   ]
  },
  {
   "cell_type": "markdown",
   "id": "12cb350c-cbff-4b9b-b48f-d29e521d0891",
   "metadata": {},
   "source": [
    "# Instructions on how to run this Notebook:\n",
    "## 1. Download the anime.csv, and rating.csv files from the Kaggle source listed above.\n",
    "## 2. In the cell below, comment/uncomment the 4 'anime_pathname', and 'rating_pathname' lines and add the file location of the 2 datasets.\n",
    "## 3. In the last cell of this Notebook, comment/uncomment the 2 'write_pathname_full' lines and add the file location to write the fully merged/cleaned dataset to be used for other parts of this project.\n",
    "## 4. Run the Notebook.\n",
    "## 5. Note: Due to the large dataset, this Notebook has an extremely long runtime."
   ]
  },
  {
   "cell_type": "code",
   "execution_count": 3,
   "id": "b5707f2f",
   "metadata": {},
   "outputs": [],
   "source": [
    "# Loading data\n",
    "\n",
    "# FULL DATASET\n",
    "anime_pathname = '/Users/kvellian/Desktop/DSC_478_Group_Project/anime.csv'\n",
    "rating_pathname = '/Users/kvellian/Desktop/DSC_478_Group_Project/rating.csv'\n",
    "\n",
    "# anime_pathname = 'ADD PATHNAME HERE'\n",
    "# rating_pathname = 'ADD PATHNAME HERE'\n",
    "\n",
    "anime = pd.read_csv(anime_pathname)\n",
    "rating = pd.read_csv(rating_pathname)"
   ]
  },
  {
   "cell_type": "markdown",
   "id": "c75a91b2",
   "metadata": {},
   "source": [
    "## Data Exploration: anime.csv"
   ]
  },
  {
   "cell_type": "code",
   "execution_count": 4,
   "id": "07f8226e",
   "metadata": {},
   "outputs": [
    {
     "name": "stdout",
     "output_type": "stream",
     "text": [
      "<class 'pandas.core.frame.DataFrame'>\n",
      "RangeIndex: 12294 entries, 0 to 12293\n",
      "Data columns (total 7 columns):\n",
      " #   Column    Non-Null Count  Dtype  \n",
      "---  ------    --------------  -----  \n",
      " 0   anime_id  12294 non-null  int64  \n",
      " 1   name      12294 non-null  object \n",
      " 2   genre     12232 non-null  object \n",
      " 3   type      12269 non-null  object \n",
      " 4   episodes  12294 non-null  object \n",
      " 5   rating    12064 non-null  float64\n",
      " 6   members   12294 non-null  int64  \n",
      "dtypes: float64(1), int64(2), object(4)\n",
      "memory usage: 672.5+ KB\n"
     ]
    }
   ],
   "source": [
    "# Display basic data information\n",
    "anime.info()"
   ]
  },
  {
   "cell_type": "code",
   "execution_count": 5,
   "id": "0e30ab1b",
   "metadata": {},
   "outputs": [
    {
     "name": "stdout",
     "output_type": "stream",
     "text": [
      "anime_id      0\n",
      "name          0\n",
      "genre        62\n",
      "type         25\n",
      "episodes      0\n",
      "rating      230\n",
      "members       0\n",
      "dtype: int64\n"
     ]
    }
   ],
   "source": [
    "# Count missing values in each column\n",
    "missing_values_anime = anime.isna().sum()\n",
    "print(missing_values_anime)"
   ]
  },
  {
   "cell_type": "code",
   "execution_count": 6,
   "id": "36908638",
   "metadata": {},
   "outputs": [
    {
     "data": {
      "text/html": [
       "<div>\n",
       "<style scoped>\n",
       "    .dataframe tbody tr th:only-of-type {\n",
       "        vertical-align: middle;\n",
       "    }\n",
       "\n",
       "    .dataframe tbody tr th {\n",
       "        vertical-align: top;\n",
       "    }\n",
       "\n",
       "    .dataframe thead th {\n",
       "        text-align: right;\n",
       "    }\n",
       "</style>\n",
       "<table border=\"1\" class=\"dataframe\">\n",
       "  <thead>\n",
       "    <tr style=\"text-align: right;\">\n",
       "      <th></th>\n",
       "      <th>anime_id</th>\n",
       "      <th>rating</th>\n",
       "      <th>members</th>\n",
       "    </tr>\n",
       "  </thead>\n",
       "  <tbody>\n",
       "    <tr>\n",
       "      <th>count</th>\n",
       "      <td>12294.000000</td>\n",
       "      <td>12064.000000</td>\n",
       "      <td>1.229400e+04</td>\n",
       "    </tr>\n",
       "    <tr>\n",
       "      <th>mean</th>\n",
       "      <td>14058.221653</td>\n",
       "      <td>6.473902</td>\n",
       "      <td>1.807134e+04</td>\n",
       "    </tr>\n",
       "    <tr>\n",
       "      <th>std</th>\n",
       "      <td>11455.294701</td>\n",
       "      <td>1.026746</td>\n",
       "      <td>5.482068e+04</td>\n",
       "    </tr>\n",
       "    <tr>\n",
       "      <th>min</th>\n",
       "      <td>1.000000</td>\n",
       "      <td>1.670000</td>\n",
       "      <td>5.000000e+00</td>\n",
       "    </tr>\n",
       "    <tr>\n",
       "      <th>25%</th>\n",
       "      <td>3484.250000</td>\n",
       "      <td>5.880000</td>\n",
       "      <td>2.250000e+02</td>\n",
       "    </tr>\n",
       "    <tr>\n",
       "      <th>50%</th>\n",
       "      <td>10260.500000</td>\n",
       "      <td>6.570000</td>\n",
       "      <td>1.550000e+03</td>\n",
       "    </tr>\n",
       "    <tr>\n",
       "      <th>75%</th>\n",
       "      <td>24794.500000</td>\n",
       "      <td>7.180000</td>\n",
       "      <td>9.437000e+03</td>\n",
       "    </tr>\n",
       "    <tr>\n",
       "      <th>max</th>\n",
       "      <td>34527.000000</td>\n",
       "      <td>10.000000</td>\n",
       "      <td>1.013917e+06</td>\n",
       "    </tr>\n",
       "  </tbody>\n",
       "</table>\n",
       "</div>"
      ],
      "text/plain": [
       "           anime_id        rating       members\n",
       "count  12294.000000  12064.000000  1.229400e+04\n",
       "mean   14058.221653      6.473902  1.807134e+04\n",
       "std    11455.294701      1.026746  5.482068e+04\n",
       "min        1.000000      1.670000  5.000000e+00\n",
       "25%     3484.250000      5.880000  2.250000e+02\n",
       "50%    10260.500000      6.570000  1.550000e+03\n",
       "75%    24794.500000      7.180000  9.437000e+03\n",
       "max    34527.000000     10.000000  1.013917e+06"
      ]
     },
     "execution_count": 6,
     "metadata": {},
     "output_type": "execute_result"
    }
   ],
   "source": [
    "anime.describe()"
   ]
  },
  {
   "cell_type": "code",
   "execution_count": 7,
   "id": "89507bc0",
   "metadata": {},
   "outputs": [
    {
     "data": {
      "text/plain": [
       "type\n",
       "TV         3787\n",
       "OVA        3311\n",
       "Movie      2348\n",
       "Special    1676\n",
       "ONA         659\n",
       "Music       488\n",
       "Name: count, dtype: int64"
      ]
     },
     "execution_count": 7,
     "metadata": {},
     "output_type": "execute_result"
    }
   ],
   "source": [
    "anime['type'].value_counts()"
   ]
  },
  {
   "cell_type": "code",
   "execution_count": 8,
   "id": "50d1dc48",
   "metadata": {},
   "outputs": [
    {
     "data": {
      "text/plain": [
       "count    12064.000000\n",
       "mean         6.473902\n",
       "std          1.026746\n",
       "min          1.670000\n",
       "25%          5.880000\n",
       "50%          6.570000\n",
       "75%          7.180000\n",
       "max         10.000000\n",
       "Name: rating, dtype: float64"
      ]
     },
     "execution_count": 8,
     "metadata": {},
     "output_type": "execute_result"
    }
   ],
   "source": [
    "anime['rating'].describe()"
   ]
  },
  {
   "cell_type": "code",
   "execution_count": 9,
   "id": "f5640201",
   "metadata": {},
   "outputs": [
    {
     "data": {
      "text/plain": [
       "count    1.229400e+04\n",
       "mean     1.807134e+04\n",
       "std      5.482068e+04\n",
       "min      5.000000e+00\n",
       "25%      2.250000e+02\n",
       "50%      1.550000e+03\n",
       "75%      9.437000e+03\n",
       "max      1.013917e+06\n",
       "Name: members, dtype: float64"
      ]
     },
     "execution_count": 9,
     "metadata": {},
     "output_type": "execute_result"
    }
   ],
   "source": [
    "anime['members'].describe()"
   ]
  },
  {
   "cell_type": "markdown",
   "id": "b57cf23f-18bf-4c13-a46e-f098be8e9d6d",
   "metadata": {},
   "source": [
    "## Data Preprocessing: anime.csv\n",
    "## Cleaning 335 instances of non English characters with regular expressions"
   ]
  },
  {
   "cell_type": "code",
   "execution_count": 10,
   "id": "4e6f602d-d975-4692-a5cb-27dcd2d78e7e",
   "metadata": {},
   "outputs": [
    {
     "data": {
      "text/html": [
       "<div>\n",
       "<style scoped>\n",
       "    .dataframe tbody tr th:only-of-type {\n",
       "        vertical-align: middle;\n",
       "    }\n",
       "\n",
       "    .dataframe tbody tr th {\n",
       "        vertical-align: top;\n",
       "    }\n",
       "\n",
       "    .dataframe thead th {\n",
       "        text-align: right;\n",
       "    }\n",
       "</style>\n",
       "<table border=\"1\" class=\"dataframe\">\n",
       "  <thead>\n",
       "    <tr style=\"text-align: right;\">\n",
       "      <th></th>\n",
       "      <th>anime_id</th>\n",
       "      <th>name</th>\n",
       "      <th>genre</th>\n",
       "      <th>type</th>\n",
       "      <th>episodes</th>\n",
       "      <th>rating</th>\n",
       "      <th>members</th>\n",
       "    </tr>\n",
       "  </thead>\n",
       "  <tbody>\n",
       "    <tr>\n",
       "      <th>2</th>\n",
       "      <td>28977</td>\n",
       "      <td>Gintama°</td>\n",
       "      <td>Action, Comedy, Historical, Parody, Samurai, S...</td>\n",
       "      <td>TV</td>\n",
       "      <td>51</td>\n",
       "      <td>9.25</td>\n",
       "      <td>114262</td>\n",
       "    </tr>\n",
       "    <tr>\n",
       "      <th>41</th>\n",
       "      <td>32366</td>\n",
       "      <td>Gintama°: Aizome Kaori-hen</td>\n",
       "      <td>Comedy, Parody</td>\n",
       "      <td>OVA</td>\n",
       "      <td>2</td>\n",
       "      <td>8.69</td>\n",
       "      <td>16947</td>\n",
       "    </tr>\n",
       "    <tr>\n",
       "      <th>59</th>\n",
       "      <td>11577</td>\n",
       "      <td>Steins;Gate Movie: Fuka Ryouiki no Déjà vu</td>\n",
       "      <td>Sci-Fi, Thriller</td>\n",
       "      <td>Movie</td>\n",
       "      <td>1</td>\n",
       "      <td>8.61</td>\n",
       "      <td>192424</td>\n",
       "    </tr>\n",
       "    <tr>\n",
       "      <th>96</th>\n",
       "      <td>9756</td>\n",
       "      <td>Mahou Shoujo Madoka★Magica</td>\n",
       "      <td>Drama, Magic, Psychological, Thriller</td>\n",
       "      <td>TV</td>\n",
       "      <td>12</td>\n",
       "      <td>8.51</td>\n",
       "      <td>462974</td>\n",
       "    </tr>\n",
       "    <tr>\n",
       "      <th>102</th>\n",
       "      <td>11981</td>\n",
       "      <td>Mahou Shoujo Madoka★Magica Movie 3: Hangyaku n...</td>\n",
       "      <td>Drama, Magic, Psychological, Thriller</td>\n",
       "      <td>Movie</td>\n",
       "      <td>1</td>\n",
       "      <td>8.50</td>\n",
       "      <td>135735</td>\n",
       "    </tr>\n",
       "    <tr>\n",
       "      <th>...</th>\n",
       "      <td>...</td>\n",
       "      <td>...</td>\n",
       "      <td>...</td>\n",
       "      <td>...</td>\n",
       "      <td>...</td>\n",
       "      <td>...</td>\n",
       "      <td>...</td>\n",
       "    </tr>\n",
       "    <tr>\n",
       "      <th>12106</th>\n",
       "      <td>4034</td>\n",
       "      <td>Sailor Senshi Venus♥Five</td>\n",
       "      <td>Hentai, Parody, Super Power</td>\n",
       "      <td>OVA</td>\n",
       "      <td>2</td>\n",
       "      <td>5.53</td>\n",
       "      <td>909</td>\n",
       "    </tr>\n",
       "    <tr>\n",
       "      <th>12170</th>\n",
       "      <td>4818</td>\n",
       "      <td>Houkago Renai Club: Koi no Étude</td>\n",
       "      <td>Hentai</td>\n",
       "      <td>OVA</td>\n",
       "      <td>2</td>\n",
       "      <td>5.39</td>\n",
       "      <td>605</td>\n",
       "    </tr>\n",
       "    <tr>\n",
       "      <th>12179</th>\n",
       "      <td>13917</td>\n",
       "      <td>Star☆Jewel Gaiden: Natsumi Oblivion</td>\n",
       "      <td>Hentai, Yuri</td>\n",
       "      <td>OVA</td>\n",
       "      <td>1</td>\n",
       "      <td>5.35</td>\n",
       "      <td>883</td>\n",
       "    </tr>\n",
       "    <tr>\n",
       "      <th>12232</th>\n",
       "      <td>3541</td>\n",
       "      <td>Kouin Tenshi: Haitoku no Lycéenne</td>\n",
       "      <td>Hentai</td>\n",
       "      <td>OVA</td>\n",
       "      <td>1</td>\n",
       "      <td>4.99</td>\n",
       "      <td>652</td>\n",
       "    </tr>\n",
       "    <tr>\n",
       "      <th>12242</th>\n",
       "      <td>6025</td>\n",
       "      <td>Battle Can²</td>\n",
       "      <td>Action, Hentai, Sci-Fi</td>\n",
       "      <td>OVA</td>\n",
       "      <td>1</td>\n",
       "      <td>4.69</td>\n",
       "      <td>484</td>\n",
       "    </tr>\n",
       "  </tbody>\n",
       "</table>\n",
       "<p>335 rows × 7 columns</p>\n",
       "</div>"
      ],
      "text/plain": [
       "       anime_id                                               name  \\\n",
       "2         28977                                           Gintama°   \n",
       "41        32366                         Gintama°: Aizome Kaori-hen   \n",
       "59        11577         Steins;Gate Movie: Fuka Ryouiki no Déjà vu   \n",
       "96         9756                         Mahou Shoujo Madoka★Magica   \n",
       "102       11981  Mahou Shoujo Madoka★Magica Movie 3: Hangyaku n...   \n",
       "...         ...                                                ...   \n",
       "12106      4034                           Sailor Senshi Venus♥Five   \n",
       "12170      4818                   Houkago Renai Club: Koi no Étude   \n",
       "12179     13917                Star☆Jewel Gaiden: Natsumi Oblivion   \n",
       "12232      3541                  Kouin Tenshi: Haitoku no Lycéenne   \n",
       "12242      6025                                        Battle Can²   \n",
       "\n",
       "                                                   genre   type episodes  \\\n",
       "2      Action, Comedy, Historical, Parody, Samurai, S...     TV       51   \n",
       "41                                        Comedy, Parody    OVA        2   \n",
       "59                                      Sci-Fi, Thriller  Movie        1   \n",
       "96                 Drama, Magic, Psychological, Thriller     TV       12   \n",
       "102                Drama, Magic, Psychological, Thriller  Movie        1   \n",
       "...                                                  ...    ...      ...   \n",
       "12106                        Hentai, Parody, Super Power    OVA        2   \n",
       "12170                                             Hentai    OVA        2   \n",
       "12179                                       Hentai, Yuri    OVA        1   \n",
       "12232                                             Hentai    OVA        1   \n",
       "12242                             Action, Hentai, Sci-Fi    OVA        1   \n",
       "\n",
       "       rating  members  \n",
       "2        9.25   114262  \n",
       "41       8.69    16947  \n",
       "59       8.61   192424  \n",
       "96       8.51   462974  \n",
       "102      8.50   135735  \n",
       "...       ...      ...  \n",
       "12106    5.53      909  \n",
       "12170    5.39      605  \n",
       "12179    5.35      883  \n",
       "12232    4.99      652  \n",
       "12242    4.69      484  \n",
       "\n",
       "[335 rows x 7 columns]"
      ]
     },
     "execution_count": 10,
     "metadata": {},
     "output_type": "execute_result"
    }
   ],
   "source": [
    "# Checking the data for non English characters with regex and lambda function\n",
    "non_english_char_names = anime[anime['name'].apply(lambda x: bool(re.search(r'[^\\x00-\\x7F]', x)))]\n",
    "\n",
    "non_english_char_names"
   ]
  },
  {
   "cell_type": "code",
   "execution_count": 11,
   "id": "f1d3441d-6b50-487c-baf8-3de9b36170cb",
   "metadata": {},
   "outputs": [
    {
     "data": {
      "text/plain": [
       "335"
      ]
     },
     "execution_count": 11,
     "metadata": {},
     "output_type": "execute_result"
    }
   ],
   "source": [
    "len(non_english_char_names)"
   ]
  },
  {
   "cell_type": "code",
   "execution_count": 12,
   "id": "4360e288-434a-46e2-ba66-340f57ff74ea",
   "metadata": {},
   "outputs": [],
   "source": [
    "# Creating function with regular expressions to return all non English characters in the name column\n",
    "def find_non_english_chars(text):\n",
    "    return set(re.findall(r'[^\\x00-\\x7F]', text))"
   ]
  },
  {
   "cell_type": "code",
   "execution_count": 13,
   "id": "a827fac9-4516-4cbb-a1fd-9680f7e68ca4",
   "metadata": {},
   "outputs": [
    {
     "data": {
      "text/plain": [
       "{'®',\n",
       " '°',\n",
       " '²',\n",
       " '³',\n",
       " '½',\n",
       " 'Ä',\n",
       " 'É',\n",
       " 'Ü',\n",
       " 'ß',\n",
       " 'à',\n",
       " 'â',\n",
       " 'ä',\n",
       " 'è',\n",
       " 'é',\n",
       " 'ö',\n",
       " 'ü',\n",
       " 'ă',\n",
       " 'ē',\n",
       " 'š',\n",
       " 'Δ',\n",
       " 'Ψ',\n",
       " 'μ',\n",
       " '“',\n",
       " '”',\n",
       " '†',\n",
       " '…',\n",
       " '℃',\n",
       " '←',\n",
       " '→',\n",
       " '√',\n",
       " '∞',\n",
       " '␣',\n",
       " '◎',\n",
       " '◯',\n",
       " '★',\n",
       " '☆',\n",
       " '♡',\n",
       " '♥',\n",
       " '♪',\n",
       " '♭',\n",
       " '＊'}"
      ]
     },
     "execution_count": 13,
     "metadata": {},
     "output_type": "execute_result"
    }
   ],
   "source": [
    "# Applying find_non_english_chars() through a lambda fucntion to the 'name' column and finding all non English characters\n",
    "non_english_chars = set()\n",
    "anime['name'].apply(lambda x: non_english_chars.update(find_non_english_chars(x)))\n",
    "\n",
    "# Displaying the set of unique non English characters\n",
    "non_english_chars"
   ]
  },
  {
   "cell_type": "code",
   "execution_count": 14,
   "id": "03d0cd18-00ac-43d0-a2fe-f6bceea1a0b2",
   "metadata": {},
   "outputs": [],
   "source": [
    "# Creating a dictionary to store the replacements for the non English characters\n",
    "replacements = {\n",
    "    '&quot;': '',\n",
    "    '&#039;': \"'\",\n",
    "    '&amp;': 'and',\n",
    "    '.hack//': '',\n",
    "    'A&#039;s': '',\n",
    "    'I&#039;': \"I'\",\n",
    "    '®': '',\n",
    "    '°': '',\n",
    "    '²': '',\n",
    "    '³': '',\n",
    "    '½': '',\n",
    "    'Ä': 'A',\n",
    "    'É': 'E',\n",
    "    'Ü': 'U',\n",
    "    'ß': 'ss',\n",
    "    'à': 'a',\n",
    "    'â': 'a',\n",
    "    'ä': 'a',\n",
    "    'è': 'e',\n",
    "    'é': 'e',\n",
    "    'ö': 'o',\n",
    "    'ü': 'u',\n",
    "    'ă': 'a',\n",
    "    'ē': 'e',\n",
    "    'š': 's',\n",
    "    'Δ': 'Delta',\n",
    "    'Ψ': 'Psi',\n",
    "    'μ': 'mu',\n",
    "    '“': '\"',\n",
    "    '”': '\"',\n",
    "    '†': '',\n",
    "    '…': '...',\n",
    "    '℃': 'C',\n",
    "    '←': '<-',\n",
    "    '→': '->',\n",
    "    '√': 'sqrt',\n",
    "    '∞': 'infinity',\n",
    "    '␣': ' ',\n",
    "    '◎': '',\n",
    "    '◯': '',\n",
    "    '★': '',\n",
    "    '☆': '',\n",
    "    '♡': '',\n",
    "    '♥': '',\n",
    "    '♪': '',\n",
    "    '♭': '',\n",
    "    '＊': '*'\n",
    "}"
   ]
  },
  {
   "cell_type": "code",
   "execution_count": 15,
   "id": "bcb481de-46f6-4ba5-90c6-561c07bcecb2",
   "metadata": {},
   "outputs": [
    {
     "data": {
      "text/plain": [
       "47"
      ]
     },
     "execution_count": 15,
     "metadata": {},
     "output_type": "execute_result"
    }
   ],
   "source": [
    "# There are 47 unique non English characters scattered throughout the dataset\n",
    "len(replacements)"
   ]
  },
  {
   "cell_type": "code",
   "execution_count": 16,
   "id": "6ccfd68c-fe91-4a12-91c7-6110d533778c",
   "metadata": {},
   "outputs": [],
   "source": [
    "# Creating clean_text() to replace instances of non English characters with their assigned replacement value\n",
    "def clean_text(text, replacements):\n",
    "    for key, value in replacements.items():\n",
    "        text = text.replace(key, value)\n",
    "    text = re.sub(r'[^\\x00-\\x7F]+', '', text)\n",
    "    return text"
   ]
  },
  {
   "cell_type": "code",
   "execution_count": 17,
   "id": "05cda7cc-95aa-46c0-b55f-aa0e1e427531",
   "metadata": {},
   "outputs": [],
   "source": [
    "# Applying clean_text() to the 'name' column\n",
    "anime['name'] = anime['name'].apply(lambda x: clean_text(x, replacements))"
   ]
  },
  {
   "cell_type": "code",
   "execution_count": 18,
   "id": "578beb9c-be1e-423d-8896-02c958d9d0d0",
   "metadata": {},
   "outputs": [
    {
     "data": {
      "text/html": [
       "<div>\n",
       "<style scoped>\n",
       "    .dataframe tbody tr th:only-of-type {\n",
       "        vertical-align: middle;\n",
       "    }\n",
       "\n",
       "    .dataframe tbody tr th {\n",
       "        vertical-align: top;\n",
       "    }\n",
       "\n",
       "    .dataframe thead th {\n",
       "        text-align: right;\n",
       "    }\n",
       "</style>\n",
       "<table border=\"1\" class=\"dataframe\">\n",
       "  <thead>\n",
       "    <tr style=\"text-align: right;\">\n",
       "      <th></th>\n",
       "      <th>anime_id</th>\n",
       "      <th>name</th>\n",
       "      <th>genre</th>\n",
       "      <th>type</th>\n",
       "      <th>episodes</th>\n",
       "      <th>rating</th>\n",
       "      <th>members</th>\n",
       "    </tr>\n",
       "  </thead>\n",
       "  <tbody>\n",
       "  </tbody>\n",
       "</table>\n",
       "</div>"
      ],
      "text/plain": [
       "Empty DataFrame\n",
       "Columns: [anime_id, name, genre, type, episodes, rating, members]\n",
       "Index: []"
      ]
     },
     "execution_count": 18,
     "metadata": {},
     "output_type": "execute_result"
    }
   ],
   "source": [
    "# Checking the cleaned data for any remaining non English characters\n",
    "cleaned_non_english_names = anime[anime['name'].apply(lambda x: bool(re.search(r'[^\\x00-\\x7F]', x)))]\n",
    "\n",
    "\n",
    "# Empty results indicates we cleaned the data\n",
    "cleaned_non_english_names"
   ]
  },
  {
   "cell_type": "code",
   "execution_count": 19,
   "id": "9ccfb465-507e-4551-8eea-a862860c900f",
   "metadata": {},
   "outputs": [
    {
     "data": {
      "text/plain": [
       "set()"
      ]
     },
     "execution_count": 19,
     "metadata": {},
     "output_type": "execute_result"
    }
   ],
   "source": [
    "# Checking the 'name' column again for unique non English values\n",
    "cleaned_non_english_chars = set()\n",
    "anime['name'].apply(lambda x: cleaned_non_english_chars.update(find_non_english_chars(x)))\n",
    "\n",
    "# The empty set confirms our results\n",
    "cleaned_non_english_chars"
   ]
  },
  {
   "cell_type": "markdown",
   "id": "d223c691-7838-4f41-b259-3ab9dddd8ade",
   "metadata": {},
   "source": [
    "## Data Exploration: anime.csv\n",
    "## Identifying all unique genres"
   ]
  },
  {
   "cell_type": "code",
   "execution_count": 20,
   "id": "f02b2c9a",
   "metadata": {},
   "outputs": [
    {
     "data": {
      "text/plain": [
       "genre\n",
       "Hentai                                                  823\n",
       "Comedy                                                  523\n",
       "Music                                                   301\n",
       "Kids                                                    199\n",
       "Comedy, Slice of Life                                   179\n",
       "                                                       ... \n",
       "Adventure, Drama, Fantasy, Game, Sci-Fi                   1\n",
       "Adventure, Demons, Fantasy, Historical                    1\n",
       "Action, Comedy, Drama, Mecha, Music, Sci-Fi, Shounen      1\n",
       "Action, Comedy, Fantasy, Mecha, Sci-Fi, Shounen           1\n",
       "Hentai, Slice of Life                                     1\n",
       "Name: count, Length: 3264, dtype: int64"
      ]
     },
     "execution_count": 20,
     "metadata": {},
     "output_type": "execute_result"
    }
   ],
   "source": [
    "# Many shows have many genres.\n",
    "anime['genre'].value_counts()"
   ]
  },
  {
   "cell_type": "code",
   "execution_count": 21,
   "id": "3bb0c5f3",
   "metadata": {},
   "outputs": [
    {
     "data": {
      "text/plain": [
       "['Action',\n",
       " 'Adventure',\n",
       " 'Cars',\n",
       " 'Comedy',\n",
       " 'Dementia',\n",
       " 'Demons',\n",
       " 'Drama',\n",
       " 'Ecchi',\n",
       " 'Fantasy',\n",
       " 'Game',\n",
       " 'Harem',\n",
       " 'Hentai',\n",
       " 'Historical',\n",
       " 'Horror',\n",
       " 'Josei',\n",
       " 'Kids',\n",
       " 'Magic',\n",
       " 'Martial Arts',\n",
       " 'Mecha',\n",
       " 'Military',\n",
       " 'Music',\n",
       " 'Mystery',\n",
       " 'Parody',\n",
       " 'Police',\n",
       " 'Psychological',\n",
       " 'Romance',\n",
       " 'Samurai',\n",
       " 'School',\n",
       " 'Sci-Fi',\n",
       " 'Seinen',\n",
       " 'Shoujo',\n",
       " 'Shoujo Ai',\n",
       " 'Shounen',\n",
       " 'Shounen Ai',\n",
       " 'Slice of Life',\n",
       " 'Space',\n",
       " 'Sports',\n",
       " 'Super Power',\n",
       " 'Supernatural',\n",
       " 'Thriller',\n",
       " 'Vampire',\n",
       " 'Yaoi',\n",
       " 'Yuri']"
      ]
     },
     "execution_count": 21,
     "metadata": {},
     "output_type": "execute_result"
    }
   ],
   "source": [
    "# Extracting unique genres from the genre column in the anime.csv dataset\n",
    "all_genres = set()\n",
    "for genres in anime['genre'].dropna().str.split(', '):\n",
    "    all_genres.update(genres)\n",
    "\n",
    "# Sorting genres alphabetically for better organization\n",
    "sorted_genres = sorted(all_genres)\n",
    "sorted_genres"
   ]
  },
  {
   "cell_type": "code",
   "execution_count": 22,
   "id": "c8ce8bb4",
   "metadata": {},
   "outputs": [
    {
     "data": {
      "text/plain": [
       "43"
      ]
     },
     "execution_count": 22,
     "metadata": {},
     "output_type": "execute_result"
    }
   ],
   "source": [
    "# There are a total of 43 unique genres from the anime.csv\n",
    "len(sorted_genres)"
   ]
  },
  {
   "cell_type": "markdown",
   "id": "9fae74a3",
   "metadata": {},
   "source": [
    "## Data Preprocessing: anime.csv\n",
    "## Creating dummy variables for 'genre' and 'type'"
   ]
  },
  {
   "cell_type": "code",
   "execution_count": 23,
   "id": "13016608",
   "metadata": {},
   "outputs": [
    {
     "data": {
      "text/html": [
       "<div>\n",
       "<style scoped>\n",
       "    .dataframe tbody tr th:only-of-type {\n",
       "        vertical-align: middle;\n",
       "    }\n",
       "\n",
       "    .dataframe tbody tr th {\n",
       "        vertical-align: top;\n",
       "    }\n",
       "\n",
       "    .dataframe thead th {\n",
       "        text-align: right;\n",
       "    }\n",
       "</style>\n",
       "<table border=\"1\" class=\"dataframe\">\n",
       "  <thead>\n",
       "    <tr style=\"text-align: right;\">\n",
       "      <th></th>\n",
       "      <th>anime_id</th>\n",
       "      <th>name</th>\n",
       "      <th>genre</th>\n",
       "      <th>type</th>\n",
       "      <th>episodes</th>\n",
       "      <th>rating</th>\n",
       "      <th>members</th>\n",
       "      <th>genre_Action</th>\n",
       "      <th>genre_Adventure</th>\n",
       "      <th>genre_Cars</th>\n",
       "      <th>...</th>\n",
       "      <th>genre_Slice of Life</th>\n",
       "      <th>genre_Space</th>\n",
       "      <th>genre_Sports</th>\n",
       "      <th>genre_Super Power</th>\n",
       "      <th>genre_Supernatural</th>\n",
       "      <th>genre_Thriller</th>\n",
       "      <th>genre_Unknown</th>\n",
       "      <th>genre_Vampire</th>\n",
       "      <th>genre_Yaoi</th>\n",
       "      <th>genre_Yuri</th>\n",
       "    </tr>\n",
       "  </thead>\n",
       "  <tbody>\n",
       "    <tr>\n",
       "      <th>0</th>\n",
       "      <td>32281</td>\n",
       "      <td>Kimi no Na wa.</td>\n",
       "      <td>Drama, Romance, School, Supernatural</td>\n",
       "      <td>Movie</td>\n",
       "      <td>1</td>\n",
       "      <td>9.37</td>\n",
       "      <td>200630</td>\n",
       "      <td>0</td>\n",
       "      <td>0</td>\n",
       "      <td>0</td>\n",
       "      <td>...</td>\n",
       "      <td>0</td>\n",
       "      <td>0</td>\n",
       "      <td>0</td>\n",
       "      <td>0</td>\n",
       "      <td>1</td>\n",
       "      <td>0</td>\n",
       "      <td>0</td>\n",
       "      <td>0</td>\n",
       "      <td>0</td>\n",
       "      <td>0</td>\n",
       "    </tr>\n",
       "    <tr>\n",
       "      <th>1</th>\n",
       "      <td>5114</td>\n",
       "      <td>Fullmetal Alchemist: Brotherhood</td>\n",
       "      <td>Action, Adventure, Drama, Fantasy, Magic, Mili...</td>\n",
       "      <td>TV</td>\n",
       "      <td>64</td>\n",
       "      <td>9.26</td>\n",
       "      <td>793665</td>\n",
       "      <td>1</td>\n",
       "      <td>1</td>\n",
       "      <td>0</td>\n",
       "      <td>...</td>\n",
       "      <td>0</td>\n",
       "      <td>0</td>\n",
       "      <td>0</td>\n",
       "      <td>0</td>\n",
       "      <td>0</td>\n",
       "      <td>0</td>\n",
       "      <td>0</td>\n",
       "      <td>0</td>\n",
       "      <td>0</td>\n",
       "      <td>0</td>\n",
       "    </tr>\n",
       "    <tr>\n",
       "      <th>2</th>\n",
       "      <td>28977</td>\n",
       "      <td>Gintama</td>\n",
       "      <td>Action, Comedy, Historical, Parody, Samurai, S...</td>\n",
       "      <td>TV</td>\n",
       "      <td>51</td>\n",
       "      <td>9.25</td>\n",
       "      <td>114262</td>\n",
       "      <td>1</td>\n",
       "      <td>0</td>\n",
       "      <td>0</td>\n",
       "      <td>...</td>\n",
       "      <td>0</td>\n",
       "      <td>0</td>\n",
       "      <td>0</td>\n",
       "      <td>0</td>\n",
       "      <td>0</td>\n",
       "      <td>0</td>\n",
       "      <td>0</td>\n",
       "      <td>0</td>\n",
       "      <td>0</td>\n",
       "      <td>0</td>\n",
       "    </tr>\n",
       "    <tr>\n",
       "      <th>3</th>\n",
       "      <td>9253</td>\n",
       "      <td>Steins;Gate</td>\n",
       "      <td>Sci-Fi, Thriller</td>\n",
       "      <td>TV</td>\n",
       "      <td>24</td>\n",
       "      <td>9.17</td>\n",
       "      <td>673572</td>\n",
       "      <td>0</td>\n",
       "      <td>0</td>\n",
       "      <td>0</td>\n",
       "      <td>...</td>\n",
       "      <td>0</td>\n",
       "      <td>0</td>\n",
       "      <td>0</td>\n",
       "      <td>0</td>\n",
       "      <td>0</td>\n",
       "      <td>1</td>\n",
       "      <td>0</td>\n",
       "      <td>0</td>\n",
       "      <td>0</td>\n",
       "      <td>0</td>\n",
       "    </tr>\n",
       "    <tr>\n",
       "      <th>4</th>\n",
       "      <td>9969</td>\n",
       "      <td>Gintama'</td>\n",
       "      <td>Action, Comedy, Historical, Parody, Samurai, S...</td>\n",
       "      <td>TV</td>\n",
       "      <td>51</td>\n",
       "      <td>9.16</td>\n",
       "      <td>151266</td>\n",
       "      <td>1</td>\n",
       "      <td>0</td>\n",
       "      <td>0</td>\n",
       "      <td>...</td>\n",
       "      <td>0</td>\n",
       "      <td>0</td>\n",
       "      <td>0</td>\n",
       "      <td>0</td>\n",
       "      <td>0</td>\n",
       "      <td>0</td>\n",
       "      <td>0</td>\n",
       "      <td>0</td>\n",
       "      <td>0</td>\n",
       "      <td>0</td>\n",
       "    </tr>\n",
       "  </tbody>\n",
       "</table>\n",
       "<p>5 rows × 51 columns</p>\n",
       "</div>"
      ],
      "text/plain": [
       "   anime_id                              name  \\\n",
       "0     32281                    Kimi no Na wa.   \n",
       "1      5114  Fullmetal Alchemist: Brotherhood   \n",
       "2     28977                           Gintama   \n",
       "3      9253                       Steins;Gate   \n",
       "4      9969                          Gintama'   \n",
       "\n",
       "                                               genre   type episodes  rating  \\\n",
       "0               Drama, Romance, School, Supernatural  Movie        1    9.37   \n",
       "1  Action, Adventure, Drama, Fantasy, Magic, Mili...     TV       64    9.26   \n",
       "2  Action, Comedy, Historical, Parody, Samurai, S...     TV       51    9.25   \n",
       "3                                   Sci-Fi, Thriller     TV       24    9.17   \n",
       "4  Action, Comedy, Historical, Parody, Samurai, S...     TV       51    9.16   \n",
       "\n",
       "   members  genre_Action  genre_Adventure  genre_Cars  ...  \\\n",
       "0   200630             0                0           0  ...   \n",
       "1   793665             1                1           0  ...   \n",
       "2   114262             1                0           0  ...   \n",
       "3   673572             0                0           0  ...   \n",
       "4   151266             1                0           0  ...   \n",
       "\n",
       "   genre_Slice of Life  genre_Space  genre_Sports  genre_Super Power  \\\n",
       "0                    0            0             0                  0   \n",
       "1                    0            0             0                  0   \n",
       "2                    0            0             0                  0   \n",
       "3                    0            0             0                  0   \n",
       "4                    0            0             0                  0   \n",
       "\n",
       "   genre_Supernatural  genre_Thriller  genre_Unknown  genre_Vampire  \\\n",
       "0                   1               0              0              0   \n",
       "1                   0               0              0              0   \n",
       "2                   0               0              0              0   \n",
       "3                   0               1              0              0   \n",
       "4                   0               0              0              0   \n",
       "\n",
       "   genre_Yaoi  genre_Yuri  \n",
       "0           0           0  \n",
       "1           0           0  \n",
       "2           0           0  \n",
       "3           0           0  \n",
       "4           0           0  \n",
       "\n",
       "[5 rows x 51 columns]"
      ]
     },
     "execution_count": 23,
     "metadata": {},
     "output_type": "execute_result"
    }
   ],
   "source": [
    "# Replacing missing value in 'genre' column with \"Unknown\"\n",
    "anime['genre'].fillna('Unknown', inplace=True) \n",
    "\n",
    "# Creating dummy variables for genres\n",
    "genre_dummies = anime['genre'].str.get_dummies(sep = ', ')\n",
    "\n",
    "# Adding prefix to each column name\n",
    "genre_dummies.columns = ['genre_' + col for col in genre_dummies.columns]\n",
    "\n",
    "# Merging dummy variables\n",
    "anime_with_genres = pd.concat([anime, genre_dummies], axis = 1)\n",
    "\n",
    "# Displaying \n",
    "anime_with_genres.head()"
   ]
  },
  {
   "cell_type": "code",
   "execution_count": 24,
   "id": "236b1e27-7114-4917-83dc-c010176e9884",
   "metadata": {},
   "outputs": [],
   "source": [
    "# Filling in missing values in the 'type' column with 'Unknown'\n",
    "anime_with_genres['type'].fillna('Unknown', inplace=True)\n",
    "\n",
    "# Creating dummy variables for the 'type' column including 'Unknown'\n",
    "type_dummies = pd.get_dummies(anime_with_genres['type'], prefix='type').astype(int)\n",
    "\n",
    "# Merging dummy variables with anime_with_genres\n",
    "anime_with_types = pd.concat([anime_with_genres, type_dummies], axis = 1)"
   ]
  },
  {
   "cell_type": "markdown",
   "id": "46ded67f-410e-46a6-a0be-ed24175c3a3c",
   "metadata": {},
   "source": [
    "## Data Cleaning: anime.csv\n",
    "### Dropping genre and type columns now that dummy variables are made."
   ]
  },
  {
   "cell_type": "code",
   "execution_count": 25,
   "id": "5be1a467-969a-4c53-8da2-3516da1c2129",
   "metadata": {},
   "outputs": [],
   "source": [
    "# List of columns to drop\n",
    "genre_type_columns = ['genre', 'type']\n",
    "\n",
    "# Dropping the specified columns\n",
    "anime_cleaned = anime_with_types.drop(columns = genre_type_columns, axis = 1)\n"
   ]
  },
  {
   "cell_type": "markdown",
   "id": "a790e1bf-9bea-4aeb-9fef-143328d1260d",
   "metadata": {},
   "source": [
    "## Data Cleaning: anime.csv\n",
    "### Dropping empty rows in rating column\n",
    "### Replacing 'Unknown' in episode column to -1"
   ]
  },
  {
   "cell_type": "code",
   "execution_count": 26,
   "id": "99e940a1-fcb3-464d-8e20-0336bb2d2820",
   "metadata": {},
   "outputs": [],
   "source": [
    "# Dropping rows where rating is 0\n",
    "anime_cleaned = anime_cleaned.dropna(subset=['rating'])\n"
   ]
  },
  {
   "cell_type": "code",
   "execution_count": 27,
   "id": "8bbe8ae4-5d53-4185-a2ab-0d22f0d1dbc5",
   "metadata": {},
   "outputs": [],
   "source": [
    "# Replacing 'Unknown' to -1\n",
    "anime_cleaned['episodes'].replace('Unknown', -1, inplace=True)\n",
    "anime_cleaned['episodes'] = anime_cleaned['episodes'].astype('int64')\n"
   ]
  },
  {
   "cell_type": "code",
   "execution_count": 28,
   "id": "a92eae9e-74fe-4061-a205-32ad1321081e",
   "metadata": {},
   "outputs": [
    {
     "data": {
      "text/plain": [
       "anime_id               0\n",
       "name                   0\n",
       "episodes               0\n",
       "rating                 0\n",
       "members                0\n",
       "genre_Action           0\n",
       "genre_Adventure        0\n",
       "genre_Cars             0\n",
       "genre_Comedy           0\n",
       "genre_Dementia         0\n",
       "genre_Demons           0\n",
       "genre_Drama            0\n",
       "genre_Ecchi            0\n",
       "genre_Fantasy          0\n",
       "genre_Game             0\n",
       "genre_Harem            0\n",
       "genre_Hentai           0\n",
       "genre_Historical       0\n",
       "genre_Horror           0\n",
       "genre_Josei            0\n",
       "genre_Kids             0\n",
       "genre_Magic            0\n",
       "genre_Martial Arts     0\n",
       "genre_Mecha            0\n",
       "genre_Military         0\n",
       "genre_Music            0\n",
       "genre_Mystery          0\n",
       "genre_Parody           0\n",
       "genre_Police           0\n",
       "genre_Psychological    0\n",
       "genre_Romance          0\n",
       "genre_Samurai          0\n",
       "genre_School           0\n",
       "genre_Sci-Fi           0\n",
       "genre_Seinen           0\n",
       "genre_Shoujo           0\n",
       "genre_Shoujo Ai        0\n",
       "genre_Shounen          0\n",
       "genre_Shounen Ai       0\n",
       "genre_Slice of Life    0\n",
       "genre_Space            0\n",
       "genre_Sports           0\n",
       "genre_Super Power      0\n",
       "genre_Supernatural     0\n",
       "genre_Thriller         0\n",
       "genre_Unknown          0\n",
       "genre_Vampire          0\n",
       "genre_Yaoi             0\n",
       "genre_Yuri             0\n",
       "type_Movie             0\n",
       "type_Music             0\n",
       "type_ONA               0\n",
       "type_OVA               0\n",
       "type_Special           0\n",
       "type_TV                0\n",
       "type_Unknown           0\n",
       "dtype: int64"
      ]
     },
     "execution_count": 28,
     "metadata": {},
     "output_type": "execute_result"
    }
   ],
   "source": [
    "# Count missing values in each column\n",
    "missing_values_anime = anime_cleaned.isna().sum()\n",
    "missing_values_anime"
   ]
  },
  {
   "cell_type": "code",
   "execution_count": 29,
   "id": "17ee2aa6-b4d1-442a-9006-dbb3731a4007",
   "metadata": {},
   "outputs": [
    {
     "name": "stdout",
     "output_type": "stream",
     "text": [
      "<class 'pandas.core.frame.DataFrame'>\n",
      "Index: 12064 entries, 0 to 12293\n",
      "Data columns (total 56 columns):\n",
      " #   Column               Non-Null Count  Dtype  \n",
      "---  ------               --------------  -----  \n",
      " 0   anime_id             12064 non-null  int64  \n",
      " 1   name                 12064 non-null  object \n",
      " 2   episodes             12064 non-null  int64  \n",
      " 3   rating               12064 non-null  float64\n",
      " 4   members              12064 non-null  int64  \n",
      " 5   genre_Action         12064 non-null  int64  \n",
      " 6   genre_Adventure      12064 non-null  int64  \n",
      " 7   genre_Cars           12064 non-null  int64  \n",
      " 8   genre_Comedy         12064 non-null  int64  \n",
      " 9   genre_Dementia       12064 non-null  int64  \n",
      " 10  genre_Demons         12064 non-null  int64  \n",
      " 11  genre_Drama          12064 non-null  int64  \n",
      " 12  genre_Ecchi          12064 non-null  int64  \n",
      " 13  genre_Fantasy        12064 non-null  int64  \n",
      " 14  genre_Game           12064 non-null  int64  \n",
      " 15  genre_Harem          12064 non-null  int64  \n",
      " 16  genre_Hentai         12064 non-null  int64  \n",
      " 17  genre_Historical     12064 non-null  int64  \n",
      " 18  genre_Horror         12064 non-null  int64  \n",
      " 19  genre_Josei          12064 non-null  int64  \n",
      " 20  genre_Kids           12064 non-null  int64  \n",
      " 21  genre_Magic          12064 non-null  int64  \n",
      " 22  genre_Martial Arts   12064 non-null  int64  \n",
      " 23  genre_Mecha          12064 non-null  int64  \n",
      " 24  genre_Military       12064 non-null  int64  \n",
      " 25  genre_Music          12064 non-null  int64  \n",
      " 26  genre_Mystery        12064 non-null  int64  \n",
      " 27  genre_Parody         12064 non-null  int64  \n",
      " 28  genre_Police         12064 non-null  int64  \n",
      " 29  genre_Psychological  12064 non-null  int64  \n",
      " 30  genre_Romance        12064 non-null  int64  \n",
      " 31  genre_Samurai        12064 non-null  int64  \n",
      " 32  genre_School         12064 non-null  int64  \n",
      " 33  genre_Sci-Fi         12064 non-null  int64  \n",
      " 34  genre_Seinen         12064 non-null  int64  \n",
      " 35  genre_Shoujo         12064 non-null  int64  \n",
      " 36  genre_Shoujo Ai      12064 non-null  int64  \n",
      " 37  genre_Shounen        12064 non-null  int64  \n",
      " 38  genre_Shounen Ai     12064 non-null  int64  \n",
      " 39  genre_Slice of Life  12064 non-null  int64  \n",
      " 40  genre_Space          12064 non-null  int64  \n",
      " 41  genre_Sports         12064 non-null  int64  \n",
      " 42  genre_Super Power    12064 non-null  int64  \n",
      " 43  genre_Supernatural   12064 non-null  int64  \n",
      " 44  genre_Thriller       12064 non-null  int64  \n",
      " 45  genre_Unknown        12064 non-null  int64  \n",
      " 46  genre_Vampire        12064 non-null  int64  \n",
      " 47  genre_Yaoi           12064 non-null  int64  \n",
      " 48  genre_Yuri           12064 non-null  int64  \n",
      " 49  type_Movie           12064 non-null  int64  \n",
      " 50  type_Music           12064 non-null  int64  \n",
      " 51  type_ONA             12064 non-null  int64  \n",
      " 52  type_OVA             12064 non-null  int64  \n",
      " 53  type_Special         12064 non-null  int64  \n",
      " 54  type_TV              12064 non-null  int64  \n",
      " 55  type_Unknown         12064 non-null  int64  \n",
      "dtypes: float64(1), int64(54), object(1)\n",
      "memory usage: 5.2+ MB\n"
     ]
    }
   ],
   "source": [
    "# Display basic data information\n",
    "anime_cleaned.info()"
   ]
  },
  {
   "cell_type": "markdown",
   "id": "1158c159",
   "metadata": {},
   "source": [
    "## Data Exploration: rating.csv\n"
   ]
  },
  {
   "cell_type": "code",
   "execution_count": 30,
   "id": "caeb8f46",
   "metadata": {},
   "outputs": [
    {
     "data": {
      "text/plain": [
       "user_id     0\n",
       "anime_id    0\n",
       "rating      0\n",
       "dtype: int64"
      ]
     },
     "execution_count": 30,
     "metadata": {},
     "output_type": "execute_result"
    }
   ],
   "source": [
    "missing_values_rating = rating.isna().sum()\n",
    "missing_values_rating"
   ]
  },
  {
   "cell_type": "code",
   "execution_count": 31,
   "id": "55dea815",
   "metadata": {},
   "outputs": [
    {
     "name": "stdout",
     "output_type": "stream",
     "text": [
      "<class 'pandas.core.frame.DataFrame'>\n",
      "RangeIndex: 7813737 entries, 0 to 7813736\n",
      "Data columns (total 3 columns):\n",
      " #   Column    Dtype\n",
      "---  ------    -----\n",
      " 0   user_id   int64\n",
      " 1   anime_id  int64\n",
      " 2   rating    int64\n",
      "dtypes: int64(3)\n",
      "memory usage: 178.8 MB\n"
     ]
    }
   ],
   "source": [
    "# Display basic data information\n",
    "# 7.8 million rows\n",
    "rating.info()"
   ]
  },
  {
   "cell_type": "code",
   "execution_count": 32,
   "id": "d29ee694",
   "metadata": {},
   "outputs": [
    {
     "data": {
      "text/html": [
       "<div>\n",
       "<style scoped>\n",
       "    .dataframe tbody tr th:only-of-type {\n",
       "        vertical-align: middle;\n",
       "    }\n",
       "\n",
       "    .dataframe tbody tr th {\n",
       "        vertical-align: top;\n",
       "    }\n",
       "\n",
       "    .dataframe thead th {\n",
       "        text-align: right;\n",
       "    }\n",
       "</style>\n",
       "<table border=\"1\" class=\"dataframe\">\n",
       "  <thead>\n",
       "    <tr style=\"text-align: right;\">\n",
       "      <th></th>\n",
       "      <th>user_id</th>\n",
       "      <th>anime_id</th>\n",
       "      <th>rating</th>\n",
       "    </tr>\n",
       "  </thead>\n",
       "  <tbody>\n",
       "    <tr>\n",
       "      <th>count</th>\n",
       "      <td>7.813737e+06</td>\n",
       "      <td>7.813737e+06</td>\n",
       "      <td>7.813737e+06</td>\n",
       "    </tr>\n",
       "    <tr>\n",
       "      <th>mean</th>\n",
       "      <td>3.672796e+04</td>\n",
       "      <td>8.909072e+03</td>\n",
       "      <td>6.144030e+00</td>\n",
       "    </tr>\n",
       "    <tr>\n",
       "      <th>std</th>\n",
       "      <td>2.099795e+04</td>\n",
       "      <td>8.883950e+03</td>\n",
       "      <td>3.727800e+00</td>\n",
       "    </tr>\n",
       "    <tr>\n",
       "      <th>min</th>\n",
       "      <td>1.000000e+00</td>\n",
       "      <td>1.000000e+00</td>\n",
       "      <td>-1.000000e+00</td>\n",
       "    </tr>\n",
       "    <tr>\n",
       "      <th>25%</th>\n",
       "      <td>1.897400e+04</td>\n",
       "      <td>1.240000e+03</td>\n",
       "      <td>6.000000e+00</td>\n",
       "    </tr>\n",
       "    <tr>\n",
       "      <th>50%</th>\n",
       "      <td>3.679100e+04</td>\n",
       "      <td>6.213000e+03</td>\n",
       "      <td>7.000000e+00</td>\n",
       "    </tr>\n",
       "    <tr>\n",
       "      <th>75%</th>\n",
       "      <td>5.475700e+04</td>\n",
       "      <td>1.409300e+04</td>\n",
       "      <td>9.000000e+00</td>\n",
       "    </tr>\n",
       "    <tr>\n",
       "      <th>max</th>\n",
       "      <td>7.351600e+04</td>\n",
       "      <td>3.451900e+04</td>\n",
       "      <td>1.000000e+01</td>\n",
       "    </tr>\n",
       "  </tbody>\n",
       "</table>\n",
       "</div>"
      ],
      "text/plain": [
       "            user_id      anime_id        rating\n",
       "count  7.813737e+06  7.813737e+06  7.813737e+06\n",
       "mean   3.672796e+04  8.909072e+03  6.144030e+00\n",
       "std    2.099795e+04  8.883950e+03  3.727800e+00\n",
       "min    1.000000e+00  1.000000e+00 -1.000000e+00\n",
       "25%    1.897400e+04  1.240000e+03  6.000000e+00\n",
       "50%    3.679100e+04  6.213000e+03  7.000000e+00\n",
       "75%    5.475700e+04  1.409300e+04  9.000000e+00\n",
       "max    7.351600e+04  3.451900e+04  1.000000e+01"
      ]
     },
     "execution_count": 32,
     "metadata": {},
     "output_type": "execute_result"
    }
   ],
   "source": [
    "# Display summary statistics\n",
    "rating.describe()"
   ]
  },
  {
   "cell_type": "code",
   "execution_count": 33,
   "id": "b82c8cb8",
   "metadata": {},
   "outputs": [
    {
     "data": {
      "text/plain": [
       "rating\n",
       " 8     1646019\n",
       "-1     1476496\n",
       " 7     1375287\n",
       " 9     1254096\n",
       " 10     955715\n",
       " 6      637775\n",
       " 5      282806\n",
       " 4      104291\n",
       " 3       41453\n",
       " 2       23150\n",
       " 1       16649\n",
       "Name: count, dtype: int64"
      ]
     },
     "execution_count": 33,
     "metadata": {},
     "output_type": "execute_result"
    }
   ],
   "source": [
    "# There are over 1.4 million -1s.\n",
    "rating['rating'].value_counts()"
   ]
  },
  {
   "cell_type": "markdown",
   "id": "c66110c3",
   "metadata": {},
   "source": [
    "## Data Cleaning: rating.csv\n",
    "### Dropping duplicate rows and rows where the rating is -1"
   ]
  },
  {
   "cell_type": "code",
   "execution_count": 34,
   "id": "bd6b2bc9-8c98-401b-987c-1ec0533bc3e5",
   "metadata": {},
   "outputs": [
    {
     "data": {
      "text/plain": [
       "1"
      ]
     },
     "execution_count": 34,
     "metadata": {},
     "output_type": "execute_result"
    }
   ],
   "source": [
    "# Finding total number of duplicate ratings\n",
    "dup_rating = rating[rating.duplicated()].shape[0]\n",
    "dup_rating"
   ]
  },
  {
   "cell_type": "code",
   "execution_count": 35,
   "id": "cf4f96b5-b4ff-4b93-90b8-5f81fcdf1daa",
   "metadata": {},
   "outputs": [
    {
     "data": {
      "text/plain": [
       "7813736"
      ]
     },
     "execution_count": 35,
     "metadata": {},
     "output_type": "execute_result"
    }
   ],
   "source": [
    "# Dropping the duplicated row and checking shape\n",
    "rating.drop_duplicates(keep='first',inplace=True)\n",
    "rating.shape[0]"
   ]
  },
  {
   "cell_type": "code",
   "execution_count": 36,
   "id": "641f7ca4-9cd2-4188-b7b3-5545e22e92d3",
   "metadata": {},
   "outputs": [
    {
     "data": {
      "text/html": [
       "<div>\n",
       "<style scoped>\n",
       "    .dataframe tbody tr th:only-of-type {\n",
       "        vertical-align: middle;\n",
       "    }\n",
       "\n",
       "    .dataframe tbody tr th {\n",
       "        vertical-align: top;\n",
       "    }\n",
       "\n",
       "    .dataframe thead th {\n",
       "        text-align: right;\n",
       "    }\n",
       "</style>\n",
       "<table border=\"1\" class=\"dataframe\">\n",
       "  <thead>\n",
       "    <tr style=\"text-align: right;\">\n",
       "      <th></th>\n",
       "      <th>user_id</th>\n",
       "      <th>anime_id</th>\n",
       "      <th>rating</th>\n",
       "    </tr>\n",
       "  </thead>\n",
       "  <tbody>\n",
       "    <tr>\n",
       "      <th>count</th>\n",
       "      <td>6.337240e+06</td>\n",
       "      <td>6.337240e+06</td>\n",
       "      <td>6.337240e+06</td>\n",
       "    </tr>\n",
       "    <tr>\n",
       "      <th>mean</th>\n",
       "      <td>3.674791e+04</td>\n",
       "      <td>8.902865e+03</td>\n",
       "      <td>7.808497e+00</td>\n",
       "    </tr>\n",
       "    <tr>\n",
       "      <th>std</th>\n",
       "      <td>2.101340e+04</td>\n",
       "      <td>8.882000e+03</td>\n",
       "      <td>1.572496e+00</td>\n",
       "    </tr>\n",
       "    <tr>\n",
       "      <th>min</th>\n",
       "      <td>1.000000e+00</td>\n",
       "      <td>1.000000e+00</td>\n",
       "      <td>1.000000e+00</td>\n",
       "    </tr>\n",
       "    <tr>\n",
       "      <th>25%</th>\n",
       "      <td>1.898400e+04</td>\n",
       "      <td>1.239000e+03</td>\n",
       "      <td>7.000000e+00</td>\n",
       "    </tr>\n",
       "    <tr>\n",
       "      <th>50%</th>\n",
       "      <td>3.681500e+04</td>\n",
       "      <td>6.213000e+03</td>\n",
       "      <td>8.000000e+00</td>\n",
       "    </tr>\n",
       "    <tr>\n",
       "      <th>75%</th>\n",
       "      <td>5.487300e+04</td>\n",
       "      <td>1.407500e+04</td>\n",
       "      <td>9.000000e+00</td>\n",
       "    </tr>\n",
       "    <tr>\n",
       "      <th>max</th>\n",
       "      <td>7.351600e+04</td>\n",
       "      <td>3.447500e+04</td>\n",
       "      <td>1.000000e+01</td>\n",
       "    </tr>\n",
       "  </tbody>\n",
       "</table>\n",
       "</div>"
      ],
      "text/plain": [
       "            user_id      anime_id        rating\n",
       "count  6.337240e+06  6.337240e+06  6.337240e+06\n",
       "mean   3.674791e+04  8.902865e+03  7.808497e+00\n",
       "std    2.101340e+04  8.882000e+03  1.572496e+00\n",
       "min    1.000000e+00  1.000000e+00  1.000000e+00\n",
       "25%    1.898400e+04  1.239000e+03  7.000000e+00\n",
       "50%    3.681500e+04  6.213000e+03  8.000000e+00\n",
       "75%    5.487300e+04  1.407500e+04  9.000000e+00\n",
       "max    7.351600e+04  3.447500e+04  1.000000e+01"
      ]
     },
     "execution_count": 36,
     "metadata": {},
     "output_type": "execute_result"
    }
   ],
   "source": [
    "# Dropping rows where the rating is -1\n",
    "rating = rating[rating['rating'] != -1]\n",
    "\n",
    "rating.describe()"
   ]
  },
  {
   "cell_type": "code",
   "execution_count": 37,
   "id": "79370cc0-2114-44ac-bce9-d143a766ccfd",
   "metadata": {},
   "outputs": [
    {
     "data": {
      "text/plain": [
       "rating\n",
       "8     1646018\n",
       "7     1375287\n",
       "9     1254096\n",
       "10     955715\n",
       "6      637775\n",
       "5      282806\n",
       "4      104291\n",
       "3       41453\n",
       "2       23150\n",
       "1       16649\n",
       "Name: count, dtype: int64"
      ]
     },
     "execution_count": 37,
     "metadata": {},
     "output_type": "execute_result"
    }
   ],
   "source": [
    "# -1s have been removed\n",
    "rating['rating'].value_counts()"
   ]
  },
  {
   "cell_type": "code",
   "execution_count": 38,
   "id": "b33a6245",
   "metadata": {},
   "outputs": [
    {
     "data": {
      "text/html": [
       "<div>\n",
       "<style scoped>\n",
       "    .dataframe tbody tr th:only-of-type {\n",
       "        vertical-align: middle;\n",
       "    }\n",
       "\n",
       "    .dataframe tbody tr th {\n",
       "        vertical-align: top;\n",
       "    }\n",
       "\n",
       "    .dataframe thead th {\n",
       "        text-align: right;\n",
       "    }\n",
       "</style>\n",
       "<table border=\"1\" class=\"dataframe\">\n",
       "  <thead>\n",
       "    <tr style=\"text-align: right;\">\n",
       "      <th></th>\n",
       "      <th>user_id</th>\n",
       "      <th>anime_id</th>\n",
       "      <th>rating</th>\n",
       "    </tr>\n",
       "  </thead>\n",
       "  <tbody>\n",
       "    <tr>\n",
       "      <th>47</th>\n",
       "      <td>1</td>\n",
       "      <td>8074</td>\n",
       "      <td>10</td>\n",
       "    </tr>\n",
       "    <tr>\n",
       "      <th>81</th>\n",
       "      <td>1</td>\n",
       "      <td>11617</td>\n",
       "      <td>10</td>\n",
       "    </tr>\n",
       "    <tr>\n",
       "      <th>83</th>\n",
       "      <td>1</td>\n",
       "      <td>11757</td>\n",
       "      <td>10</td>\n",
       "    </tr>\n",
       "    <tr>\n",
       "      <th>101</th>\n",
       "      <td>1</td>\n",
       "      <td>15451</td>\n",
       "      <td>10</td>\n",
       "    </tr>\n",
       "    <tr>\n",
       "      <th>153</th>\n",
       "      <td>2</td>\n",
       "      <td>11771</td>\n",
       "      <td>10</td>\n",
       "    </tr>\n",
       "  </tbody>\n",
       "</table>\n",
       "</div>"
      ],
      "text/plain": [
       "     user_id  anime_id  rating\n",
       "47         1      8074      10\n",
       "81         1     11617      10\n",
       "83         1     11757      10\n",
       "101        1     15451      10\n",
       "153        2     11771      10"
      ]
     },
     "execution_count": 38,
     "metadata": {},
     "output_type": "execute_result"
    }
   ],
   "source": [
    "rating.head()"
   ]
  },
  {
   "cell_type": "markdown",
   "id": "268292c3",
   "metadata": {},
   "source": [
    "## Data Preprocessing: anime.csv, rating.csv.\n",
    "### Joining tables and dropping inappropriate genres"
   ]
  },
  {
   "cell_type": "code",
   "execution_count": 39,
   "id": "0e7971cb",
   "metadata": {},
   "outputs": [],
   "source": [
    "# Renaming the rating columns in each dataset before merging.\n",
    "\n",
    "anime_cleaned.rename(columns = {'rating': 'average_rating'}, inplace = True)\n",
    "rating.rename(columns = {'rating': 'user_rating'}, inplace = True)\n"
   ]
  },
  {
   "cell_type": "code",
   "execution_count": 40,
   "id": "e1dae2e7",
   "metadata": {},
   "outputs": [],
   "source": [
    "# Merging the tables\n",
    "anime_rating_merged = pd.merge(anime_cleaned, rating, on = 'anime_id', how = 'inner')"
   ]
  },
  {
   "cell_type": "code",
   "execution_count": 41,
   "id": "8a45e665",
   "metadata": {},
   "outputs": [
    {
     "data": {
      "text/html": [
       "<div>\n",
       "<style scoped>\n",
       "    .dataframe tbody tr th:only-of-type {\n",
       "        vertical-align: middle;\n",
       "    }\n",
       "\n",
       "    .dataframe tbody tr th {\n",
       "        vertical-align: top;\n",
       "    }\n",
       "\n",
       "    .dataframe thead th {\n",
       "        text-align: right;\n",
       "    }\n",
       "</style>\n",
       "<table border=\"1\" class=\"dataframe\">\n",
       "  <thead>\n",
       "    <tr style=\"text-align: right;\">\n",
       "      <th></th>\n",
       "      <th>anime_id</th>\n",
       "      <th>name</th>\n",
       "      <th>episodes</th>\n",
       "      <th>average_rating</th>\n",
       "      <th>members</th>\n",
       "      <th>genre_Action</th>\n",
       "      <th>genre_Adventure</th>\n",
       "      <th>genre_Cars</th>\n",
       "      <th>genre_Comedy</th>\n",
       "      <th>genre_Dementia</th>\n",
       "      <th>...</th>\n",
       "      <th>genre_Yuri</th>\n",
       "      <th>type_Movie</th>\n",
       "      <th>type_Music</th>\n",
       "      <th>type_ONA</th>\n",
       "      <th>type_OVA</th>\n",
       "      <th>type_Special</th>\n",
       "      <th>type_TV</th>\n",
       "      <th>type_Unknown</th>\n",
       "      <th>user_id</th>\n",
       "      <th>user_rating</th>\n",
       "    </tr>\n",
       "  </thead>\n",
       "  <tbody>\n",
       "    <tr>\n",
       "      <th>0</th>\n",
       "      <td>32281</td>\n",
       "      <td>Kimi no Na wa.</td>\n",
       "      <td>1</td>\n",
       "      <td>9.37</td>\n",
       "      <td>200630</td>\n",
       "      <td>0</td>\n",
       "      <td>0</td>\n",
       "      <td>0</td>\n",
       "      <td>0</td>\n",
       "      <td>0</td>\n",
       "      <td>...</td>\n",
       "      <td>0</td>\n",
       "      <td>1</td>\n",
       "      <td>0</td>\n",
       "      <td>0</td>\n",
       "      <td>0</td>\n",
       "      <td>0</td>\n",
       "      <td>0</td>\n",
       "      <td>0</td>\n",
       "      <td>99</td>\n",
       "      <td>5</td>\n",
       "    </tr>\n",
       "    <tr>\n",
       "      <th>1</th>\n",
       "      <td>32281</td>\n",
       "      <td>Kimi no Na wa.</td>\n",
       "      <td>1</td>\n",
       "      <td>9.37</td>\n",
       "      <td>200630</td>\n",
       "      <td>0</td>\n",
       "      <td>0</td>\n",
       "      <td>0</td>\n",
       "      <td>0</td>\n",
       "      <td>0</td>\n",
       "      <td>...</td>\n",
       "      <td>0</td>\n",
       "      <td>1</td>\n",
       "      <td>0</td>\n",
       "      <td>0</td>\n",
       "      <td>0</td>\n",
       "      <td>0</td>\n",
       "      <td>0</td>\n",
       "      <td>0</td>\n",
       "      <td>152</td>\n",
       "      <td>10</td>\n",
       "    </tr>\n",
       "    <tr>\n",
       "      <th>2</th>\n",
       "      <td>32281</td>\n",
       "      <td>Kimi no Na wa.</td>\n",
       "      <td>1</td>\n",
       "      <td>9.37</td>\n",
       "      <td>200630</td>\n",
       "      <td>0</td>\n",
       "      <td>0</td>\n",
       "      <td>0</td>\n",
       "      <td>0</td>\n",
       "      <td>0</td>\n",
       "      <td>...</td>\n",
       "      <td>0</td>\n",
       "      <td>1</td>\n",
       "      <td>0</td>\n",
       "      <td>0</td>\n",
       "      <td>0</td>\n",
       "      <td>0</td>\n",
       "      <td>0</td>\n",
       "      <td>0</td>\n",
       "      <td>244</td>\n",
       "      <td>10</td>\n",
       "    </tr>\n",
       "    <tr>\n",
       "      <th>3</th>\n",
       "      <td>32281</td>\n",
       "      <td>Kimi no Na wa.</td>\n",
       "      <td>1</td>\n",
       "      <td>9.37</td>\n",
       "      <td>200630</td>\n",
       "      <td>0</td>\n",
       "      <td>0</td>\n",
       "      <td>0</td>\n",
       "      <td>0</td>\n",
       "      <td>0</td>\n",
       "      <td>...</td>\n",
       "      <td>0</td>\n",
       "      <td>1</td>\n",
       "      <td>0</td>\n",
       "      <td>0</td>\n",
       "      <td>0</td>\n",
       "      <td>0</td>\n",
       "      <td>0</td>\n",
       "      <td>0</td>\n",
       "      <td>271</td>\n",
       "      <td>10</td>\n",
       "    </tr>\n",
       "    <tr>\n",
       "      <th>4</th>\n",
       "      <td>32281</td>\n",
       "      <td>Kimi no Na wa.</td>\n",
       "      <td>1</td>\n",
       "      <td>9.37</td>\n",
       "      <td>200630</td>\n",
       "      <td>0</td>\n",
       "      <td>0</td>\n",
       "      <td>0</td>\n",
       "      <td>0</td>\n",
       "      <td>0</td>\n",
       "      <td>...</td>\n",
       "      <td>0</td>\n",
       "      <td>1</td>\n",
       "      <td>0</td>\n",
       "      <td>0</td>\n",
       "      <td>0</td>\n",
       "      <td>0</td>\n",
       "      <td>0</td>\n",
       "      <td>0</td>\n",
       "      <td>322</td>\n",
       "      <td>10</td>\n",
       "    </tr>\n",
       "  </tbody>\n",
       "</table>\n",
       "<p>5 rows × 58 columns</p>\n",
       "</div>"
      ],
      "text/plain": [
       "   anime_id            name  episodes  average_rating  members  genre_Action  \\\n",
       "0     32281  Kimi no Na wa.         1            9.37   200630             0   \n",
       "1     32281  Kimi no Na wa.         1            9.37   200630             0   \n",
       "2     32281  Kimi no Na wa.         1            9.37   200630             0   \n",
       "3     32281  Kimi no Na wa.         1            9.37   200630             0   \n",
       "4     32281  Kimi no Na wa.         1            9.37   200630             0   \n",
       "\n",
       "   genre_Adventure  genre_Cars  genre_Comedy  genre_Dementia  ...  genre_Yuri  \\\n",
       "0                0           0             0               0  ...           0   \n",
       "1                0           0             0               0  ...           0   \n",
       "2                0           0             0               0  ...           0   \n",
       "3                0           0             0               0  ...           0   \n",
       "4                0           0             0               0  ...           0   \n",
       "\n",
       "   type_Movie  type_Music  type_ONA  type_OVA  type_Special  type_TV  \\\n",
       "0           1           0         0         0             0        0   \n",
       "1           1           0         0         0             0        0   \n",
       "2           1           0         0         0             0        0   \n",
       "3           1           0         0         0             0        0   \n",
       "4           1           0         0         0             0        0   \n",
       "\n",
       "   type_Unknown  user_id  user_rating  \n",
       "0             0       99            5  \n",
       "1             0      152           10  \n",
       "2             0      244           10  \n",
       "3             0      271           10  \n",
       "4             0      322           10  \n",
       "\n",
       "[5 rows x 58 columns]"
      ]
     },
     "execution_count": 41,
     "metadata": {},
     "output_type": "execute_result"
    }
   ],
   "source": [
    "anime_rating_merged.head()"
   ]
  },
  {
   "cell_type": "markdown",
   "id": "f3a114a1-d54d-4a98-ba40-8942f87ca3fe",
   "metadata": {},
   "source": [
    "## Data Cleaning: df_anime_rating\n",
    "### Removing rows with unwanted genres"
   ]
  },
  {
   "cell_type": "code",
   "execution_count": 42,
   "id": "9a58dc23",
   "metadata": {},
   "outputs": [
    {
     "name": "stdout",
     "output_type": "stream",
     "text": [
      "Percentage of rows with inappropriate genre : 17.20%\n"
     ]
    }
   ],
   "source": [
    "# Calculate the percentage of rows where they are inappropriate\n",
    "inappropriate_rows = anime_rating_merged[(anime_rating_merged['genre_Ecchi'] == 1) | (anime_rating_merged['genre_Harem'] == 1) |(anime_rating_merged['genre_Hentai'] == 1) | (anime_rating_merged['genre_Yaoi'] == 1) | (anime_rating_merged['genre_Yuri'] == 1)]\n",
    "percentage = (len(inappropriate_rows) / len(anime_rating_merged)) * 100\n",
    "\n",
    "print(f\"Percentage of rows with inappropriate genre : {percentage:.2f}%\")"
   ]
  },
  {
   "cell_type": "markdown",
   "id": "817b7206",
   "metadata": {},
   "source": [
    "### About 17.2% of the data consists of unwanted genres that we are dropping."
   ]
  },
  {
   "cell_type": "code",
   "execution_count": 43,
   "id": "627366b9",
   "metadata": {},
   "outputs": [],
   "source": [
    "# Dropping all rows where unwanted genres  =  1\n",
    "df_anime_rating = anime_rating_merged[(anime_rating_merged['genre_Ecchi'] !=  1) & (anime_rating_merged['genre_Harem'] !=  1) & (anime_rating_merged['genre_Hentai'] !=  1) & (anime_rating_merged['genre_Yaoi'] !=  1) & (anime_rating_merged['genre_Yuri'] !=  1) ]\n"
   ]
  },
  {
   "cell_type": "code",
   "execution_count": 44,
   "id": "bbf7ac70",
   "metadata": {},
   "outputs": [],
   "source": [
    "# Dropping the columns for the unwanted genres\n",
    "df_anime_rating = df_anime_rating.drop(columns = ['genre_Ecchi', 'genre_Harem','genre_Hentai','genre_Yaoi','genre_Yuri'])"
   ]
  },
  {
   "cell_type": "code",
   "execution_count": 45,
   "id": "7e722893",
   "metadata": {},
   "outputs": [
    {
     "data": {
      "text/plain": [
       "Index(['anime_id', 'name', 'episodes', 'average_rating', 'members',\n",
       "       'genre_Action', 'genre_Adventure', 'genre_Cars', 'genre_Comedy',\n",
       "       'genre_Dementia', 'genre_Demons', 'genre_Drama', 'genre_Fantasy',\n",
       "       'genre_Game', 'genre_Historical', 'genre_Horror', 'genre_Josei',\n",
       "       'genre_Kids', 'genre_Magic', 'genre_Martial Arts', 'genre_Mecha',\n",
       "       'genre_Military', 'genre_Music', 'genre_Mystery', 'genre_Parody',\n",
       "       'genre_Police', 'genre_Psychological', 'genre_Romance', 'genre_Samurai',\n",
       "       'genre_School', 'genre_Sci-Fi', 'genre_Seinen', 'genre_Shoujo',\n",
       "       'genre_Shoujo Ai', 'genre_Shounen', 'genre_Shounen Ai',\n",
       "       'genre_Slice of Life', 'genre_Space', 'genre_Sports',\n",
       "       'genre_Super Power', 'genre_Supernatural', 'genre_Thriller',\n",
       "       'genre_Unknown', 'genre_Vampire', 'type_Movie', 'type_Music',\n",
       "       'type_ONA', 'type_OVA', 'type_Special', 'type_TV', 'type_Unknown',\n",
       "       'user_id', 'user_rating'],\n",
       "      dtype='object')"
      ]
     },
     "execution_count": 45,
     "metadata": {},
     "output_type": "execute_result"
    }
   ],
   "source": [
    "df_anime_rating.columns"
   ]
  },
  {
   "cell_type": "code",
   "execution_count": 46,
   "id": "6453f352",
   "metadata": {},
   "outputs": [
    {
     "name": "stdout",
     "output_type": "stream",
     "text": [
      "<class 'pandas.core.frame.DataFrame'>\n",
      "Index: 5247447 entries, 0 to 6249517\n",
      "Data columns (total 53 columns):\n",
      " #   Column               Dtype  \n",
      "---  ------               -----  \n",
      " 0   anime_id             int64  \n",
      " 1   name                 object \n",
      " 2   episodes             int64  \n",
      " 3   average_rating       float64\n",
      " 4   members              int64  \n",
      " 5   genre_Action         int64  \n",
      " 6   genre_Adventure      int64  \n",
      " 7   genre_Cars           int64  \n",
      " 8   genre_Comedy         int64  \n",
      " 9   genre_Dementia       int64  \n",
      " 10  genre_Demons         int64  \n",
      " 11  genre_Drama          int64  \n",
      " 12  genre_Fantasy        int64  \n",
      " 13  genre_Game           int64  \n",
      " 14  genre_Historical     int64  \n",
      " 15  genre_Horror         int64  \n",
      " 16  genre_Josei          int64  \n",
      " 17  genre_Kids           int64  \n",
      " 18  genre_Magic          int64  \n",
      " 19  genre_Martial Arts   int64  \n",
      " 20  genre_Mecha          int64  \n",
      " 21  genre_Military       int64  \n",
      " 22  genre_Music          int64  \n",
      " 23  genre_Mystery        int64  \n",
      " 24  genre_Parody         int64  \n",
      " 25  genre_Police         int64  \n",
      " 26  genre_Psychological  int64  \n",
      " 27  genre_Romance        int64  \n",
      " 28  genre_Samurai        int64  \n",
      " 29  genre_School         int64  \n",
      " 30  genre_Sci-Fi         int64  \n",
      " 31  genre_Seinen         int64  \n",
      " 32  genre_Shoujo         int64  \n",
      " 33  genre_Shoujo Ai      int64  \n",
      " 34  genre_Shounen        int64  \n",
      " 35  genre_Shounen Ai     int64  \n",
      " 36  genre_Slice of Life  int64  \n",
      " 37  genre_Space          int64  \n",
      " 38  genre_Sports         int64  \n",
      " 39  genre_Super Power    int64  \n",
      " 40  genre_Supernatural   int64  \n",
      " 41  genre_Thriller       int64  \n",
      " 42  genre_Unknown        int64  \n",
      " 43  genre_Vampire        int64  \n",
      " 44  type_Movie           int64  \n",
      " 45  type_Music           int64  \n",
      " 46  type_ONA             int64  \n",
      " 47  type_OVA             int64  \n",
      " 48  type_Special         int64  \n",
      " 49  type_TV              int64  \n",
      " 50  type_Unknown         int64  \n",
      " 51  user_id              int64  \n",
      " 52  user_rating          int64  \n",
      "dtypes: float64(1), int64(51), object(1)\n",
      "memory usage: 2.1+ GB\n"
     ]
    }
   ],
   "source": [
    "df_anime_rating.info()"
   ]
  },
  {
   "cell_type": "code",
   "execution_count": 47,
   "id": "f7f67253",
   "metadata": {},
   "outputs": [
    {
     "data": {
      "text/plain": [
       "anime_id               0\n",
       "name                   0\n",
       "episodes               0\n",
       "average_rating         0\n",
       "members                0\n",
       "genre_Action           0\n",
       "genre_Adventure        0\n",
       "genre_Cars             0\n",
       "genre_Comedy           0\n",
       "genre_Dementia         0\n",
       "genre_Demons           0\n",
       "genre_Drama            0\n",
       "genre_Fantasy          0\n",
       "genre_Game             0\n",
       "genre_Historical       0\n",
       "genre_Horror           0\n",
       "genre_Josei            0\n",
       "genre_Kids             0\n",
       "genre_Magic            0\n",
       "genre_Martial Arts     0\n",
       "genre_Mecha            0\n",
       "genre_Military         0\n",
       "genre_Music            0\n",
       "genre_Mystery          0\n",
       "genre_Parody           0\n",
       "genre_Police           0\n",
       "genre_Psychological    0\n",
       "genre_Romance          0\n",
       "genre_Samurai          0\n",
       "genre_School           0\n",
       "genre_Sci-Fi           0\n",
       "genre_Seinen           0\n",
       "genre_Shoujo           0\n",
       "genre_Shoujo Ai        0\n",
       "genre_Shounen          0\n",
       "genre_Shounen Ai       0\n",
       "genre_Slice of Life    0\n",
       "genre_Space            0\n",
       "genre_Sports           0\n",
       "genre_Super Power      0\n",
       "genre_Supernatural     0\n",
       "genre_Thriller         0\n",
       "genre_Unknown          0\n",
       "genre_Vampire          0\n",
       "type_Movie             0\n",
       "type_Music             0\n",
       "type_ONA               0\n",
       "type_OVA               0\n",
       "type_Special           0\n",
       "type_TV                0\n",
       "type_Unknown           0\n",
       "user_id                0\n",
       "user_rating            0\n",
       "dtype: int64"
      ]
     },
     "execution_count": 47,
     "metadata": {},
     "output_type": "execute_result"
    }
   ],
   "source": [
    "# Count missing values in each column\n",
    "missing_values_anime = df_anime_rating.isna().sum()\n",
    "missing_values_anime"
   ]
  },
  {
   "cell_type": "code",
   "execution_count": 48,
   "id": "5a08b9df-322f-4214-bab4-b869798a320c",
   "metadata": {},
   "outputs": [
    {
     "data": {
      "text/plain": [
       "5247447"
      ]
     },
     "execution_count": 48,
     "metadata": {},
     "output_type": "execute_result"
    }
   ],
   "source": [
    "len(df_anime_rating)"
   ]
  },
  {
   "cell_type": "markdown",
   "id": "5036b2c4-88aa-4cb9-98fd-dc5b1172301f",
   "metadata": {},
   "source": [
    "### Creating subset of df_anime_rating to reduce runtime for testing code"
   ]
  },
  {
   "cell_type": "code",
   "execution_count": 49,
   "id": "04d77047-290f-41c3-8a3d-3263f1f45b33",
   "metadata": {},
   "outputs": [],
   "source": [
    "# Subset of 1,000,000 rows. Change the value as needed\n",
    "df_anime_rating_subset = df_anime_rating[:1000000]"
   ]
  },
  {
   "cell_type": "markdown",
   "id": "944c5b73-f715-422e-b88d-3111f4044e83",
   "metadata": {},
   "source": [
    "### Saving full dataset and subset to .csv files"
   ]
  },
  {
   "cell_type": "code",
   "execution_count": 50,
   "id": "eec3aaa9-7bda-45a4-b777-e72eb480a11c",
   "metadata": {},
   "outputs": [],
   "source": [
    "# # Saving to SUBSET\n",
    "\n",
    "# write_pathname_subset = '/Users/kvellian/Desktop/DSC_478_Group_Project/df_anime_rating_subset.csv'\n",
    "\n",
    "# # write_pathname_subset = 'ADD PATHNAME HERE'\n",
    "\n",
    "# df_anime_rating_subset.to_csv(write_pathname_subset, index = False)"
   ]
  },
  {
   "cell_type": "code",
   "execution_count": 51,
   "id": "4798ba22",
   "metadata": {},
   "outputs": [],
   "source": [
    "# Saving to FULL MERGED\n",
    "\n",
    "write_pathname_full = '/Users/kvellian/Desktop/DSC_478_Group_Project/df_anime_rating.csv'\n",
    "\n",
    "# write_pathname_full = 'ADD PATHNAME HERE'\n",
    "\n",
    "df_anime_rating.to_csv(write_pathname_full, index = False)"
   ]
  },
  {
   "cell_type": "code",
   "execution_count": null,
   "id": "ea942c70-4ff9-4733-ab83-6608566e34c1",
   "metadata": {},
   "outputs": [],
   "source": []
  }
 ],
 "metadata": {
  "kernelspec": {
   "display_name": "Python 3 (ipykernel)",
   "language": "python",
   "name": "python3"
  },
  "language_info": {
   "codemirror_mode": {
    "name": "ipython",
    "version": 3
   },
   "file_extension": ".py",
   "mimetype": "text/x-python",
   "name": "python",
   "nbconvert_exporter": "python",
   "pygments_lexer": "ipython3",
   "version": "3.11.7"
  }
 },
 "nbformat": 4,
 "nbformat_minor": 5
}
